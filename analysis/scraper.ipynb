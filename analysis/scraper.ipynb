{
 "cells": [
  {
   "cell_type": "code",
   "execution_count": 1,
   "metadata": {},
   "outputs": [],
   "source": [
    "import re\n",
    "import string\n",
    "import requests\n",
    "import tempfile\n",
    "from bs4 import BeautifulSoup"
   ]
  },
  {
   "cell_type": "code",
   "execution_count": 2,
   "metadata": {},
   "outputs": [],
   "source": [
    "import clean_text_class as clean\n",
    "import count_words_letters_class as count"
   ]
  },
  {
   "cell_type": "code",
   "execution_count": 3,
   "metadata": {},
   "outputs": [],
   "source": [
    "base_url = \"http://www.gutenberg.org/wiki/Category:\"\n",
    "# categories = [\"Bookshelf\", \"FR_Genre\", \"DE_Bücherregal\", \"IT_Biblioteca\"]\n",
    "categories = {\"English\": \"Bookshelf\", \"français\": \"FR_Genre\", \"Deutsch\": \"DE_Bücherregal\", \"italiano\": \"IT_Biblioteca\"}\n",
    "store_subcategories = [base_url + category for category in list(categories.values())]\n",
    "# Write results as a dict into a list\n",
    "languages_ebooks = []"
   ]
  },
  {
   "cell_type": "code",
   "execution_count": 4,
   "metadata": {},
   "outputs": [],
   "source": [
    "def analyse_text(book, result):\n",
    "    raw = clean.clean_text(book)\n",
    "    text = raw.remove_metadata(raw.text)\n",
    "    content = raw.remove_chapters(text)\n",
    "    content = raw.remove_punctuation(content)\n",
    "    letters = raw.text_letters(content)\n",
    "    analysis = count.analyse_letters(letters)\n",
    "    letters_count = analysis.letters_count(analysis.letters)\n",
    "    letters_freq = analysis.letters_freq_pd(letters_count)\n",
    "    result_freq = {**result, **letters_freq}\n",
    "    return result_freq"
   ]
  },
  {
   "cell_type": "markdown",
   "metadata": {},
   "source": [
    "### Gather subcategories of books for each language then get links to ebooks texts for each subcategory"
   ]
  },
  {
   "cell_type": "code",
   "execution_count": null,
   "metadata": {},
   "outputs": [],
   "source": [
    "# test_url = \"http://www.gutenberg.org/wiki/Category:DE_B%C3%BCcherregal\", test_url2 = \"http://www.gutenberg.org/wiki/DE_Drama_(B%C3%BCcherregal)\"\n",
    "\n",
    "for language, category in categories.items():\n",
    "    url = base_url + category\n",
    "    r = requests.get(url)\n",
    "    soup = BeautifulSoup(r.text, 'html.parser')\n",
    "    sub_links = [f\"http://www.gutenberg.org{a['href']}\" for a in soup.find(\"div\", {\"class\":\"mw-content-ltr\"})(\"a\")]\n",
    "    # store_subcategories.extend(sub_links)\n",
    "    for link in sub_links:\n",
    "        # print(link)\n",
    "        store_subcategories.append(link)\n",
    "        if \"How-To\" in link:\n",
    "            pass\n",
    "        elif \"Category\" in link:\n",
    "            more_links = [f\"http://www.gutenberg.org{a['href']}\" for a in soup.find(\"div\", {\"class\":\"mw-content-ltr\"})(\"a\")]\n",
    "            # store_subcategories.extend(more_links)\n",
    "            new_links = [l for l in more_links if l not in store_subcategories]\n",
    "            sub_links.extend(more_links)\n",
    "        else:\n",
    "            # print(\"> ELSE\")\n",
    "            r2 = requests.get(link)\n",
    "            r2.status_code\n",
    "            soup2 = BeautifulSoup(r2.text, 'html.parser')\n",
    "            ebooks = [f\"http:{a['href']}.txt.utf-8\" for a in soup2(\"a\", {\"class\": \"extiw\"}) if \"ebooks\" in a['href']]\n",
    "            if not ebooks:\n",
    "                print(\"No ebook\")\n",
    "            else:\n",
    "                for ebook in ebooks:\n",
    "                    result = {}\n",
    "                    result[\"language\"] = language\n",
    "                    id = [e for e in re.split('[/.]', ebook) if e.isdigit()]\n",
    "                    # print(id)\n",
    "                    try:\n",
    "                        result[\"id\"] = id[0]\n",
    "                    except IndexError:\n",
    "                        result[\"id\"] = \"N/A\"\n",
    "                        print(\"No ebook\")\n",
    "                        #print(f\"link: {link}\")\n",
    "                        #print(f\" > ebooks: {ebooks}\")\n",
    "                    r3 = requests.get(ebook)\n",
    "                    tmpf = tempfile.NamedTemporaryFile()\n",
    "                    with open(tmpf.name, 'w') as f:\n",
    "                        f.write(r3.text)\n",
    "                    res = analyse_text(tmpf.name, result)\n",
    "                    languages_ebooks.append(res)"
   ]
  },
  {
   "cell_type": "code",
   "execution_count": null,
   "metadata": {},
   "outputs": [],
   "source": [
    "languages_ebooks[0]"
   ]
  },
  {
   "cell_type": "markdown",
   "metadata": {},
   "source": [
    "### Content from Project Gutenberg\n",
    "\n",
    "English: 15846 ebooks\n",
    "\n",
    "français: 3228 ebooks\n",
    "\n",
    "Deutsch: 916 ebooks\n",
    "\n",
    "italiano: 785 ebooks"
   ]
  },
  {
   "cell_type": "code",
   "execution_count": null,
   "metadata": {},
   "outputs": [],
   "source": [
    "import pandas as pd"
   ]
  },
  {
   "cell_type": "code",
   "execution_count": null,
   "metadata": {},
   "outputs": [],
   "source": [
    "letters_pd = pd.DataFrame(languages_ebooks)"
   ]
  }
 ],
 "metadata": {
  "kernelspec": {
   "display_name": "Python 3",
   "language": "python",
   "name": "python3"
  },
  "language_info": {
   "codemirror_mode": {
    "name": "ipython",
    "version": 3
   },
   "file_extension": ".py",
   "mimetype": "text/x-python",
   "name": "python",
   "nbconvert_exporter": "python",
   "pygments_lexer": "ipython3",
   "version": "3.6.8"
  }
 },
 "nbformat": 4,
 "nbformat_minor": 4
}
