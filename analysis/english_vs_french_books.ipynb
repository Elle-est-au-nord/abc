{
 "cells": [
  {
   "cell_type": "code",
   "execution_count": 1,
   "metadata": {},
   "outputs": [],
   "source": [
    "import string\n",
    "import pandas as pd\n",
    "import numpy as np"
   ]
  },
  {
   "cell_type": "code",
   "execution_count": 2,
   "metadata": {},
   "outputs": [],
   "source": [
    "import clean_text_class as clean\n",
    "import count_words_letters_class as count"
   ]
  },
  {
   "cell_type": "markdown",
   "metadata": {},
   "source": [
    "## English books"
   ]
  },
  {
   "cell_type": "code",
   "execution_count": 3,
   "metadata": {},
   "outputs": [],
   "source": [
    "english_books = [\"books/alice.txt\", \"books/peterpan.txt\", \"books/wizardofoz.txt\"]\n",
    "freq_results = []"
   ]
  },
  {
   "cell_type": "code",
   "execution_count": 4,
   "metadata": {},
   "outputs": [],
   "source": [
    "for en_book in english_books:\n",
    "    raw = clean.clean_text(en_book)\n",
    "    text = raw.remove_metadata(raw.text)\n",
    "    content = raw.remove_chapters(text)\n",
    "    content = raw.remove_punctuation(content)\n",
    "    letters = raw.text_letters(content)\n",
    "    analysis = count.analyse_letters(letters)\n",
    "    letters_count = analysis.letters_count(analysis.letters)\n",
    "    letters_freq = analysis.letters_freq_pd(letters_count)\n",
    "    freq_results.append(letters_freq)"
   ]
  },
  {
   "cell_type": "code",
   "execution_count": 5,
   "metadata": {},
   "outputs": [],
   "source": [
    "latin_alphabet = list(string.ascii_lowercase)\n",
    "letters_freq_en = {key: 0 for key in latin_alphabet}"
   ]
  },
  {
   "cell_type": "code",
   "execution_count": 6,
   "metadata": {},
   "outputs": [],
   "source": [
    "for key in letters_freq_en:\n",
    "    mean = np.mean([a.get(key, 0) for a in freq_results])\n",
    "    letters_freq_en[key] = mean"
   ]
  },
  {
   "cell_type": "code",
   "execution_count": 7,
   "metadata": {},
   "outputs": [],
   "source": [
    "# letters_freq_en"
   ]
  },
  {
   "cell_type": "code",
   "execution_count": 8,
   "metadata": {},
   "outputs": [],
   "source": [
    "freq_en = pd.DataFrame(letters_freq_en.items(), columns=[\"letter\", \"average frequency\"])"
   ]
  },
  {
   "cell_type": "code",
   "execution_count": 9,
   "metadata": {},
   "outputs": [
    {
     "data": {
      "text/plain": [
       "<matplotlib.axes._subplots.AxesSubplot at 0x7fe7561f2a20>"
      ]
     },
     "execution_count": 9,
     "metadata": {},
     "output_type": "execute_result"
    },
    {
     "data": {
      "image/png": "[encoded data removed]",
      "text/plain": [
       "<Figure size 432x288 with 1 Axes>"
      ]
     },
     "metadata": {
      "needs_background": "light"
     },
     "output_type": "display_data"
    }
   ],
   "source": [
    "freq_en.plot(kind='bar', x=\"letter\")"
   ]
  },
  {
   "cell_type": "markdown",
   "metadata": {},
   "source": [
    "## French books"
   ]
  },
  {
   "cell_type": "code",
   "execution_count": 10,
   "metadata": {},
   "outputs": [],
   "source": [
    "french_books = [\"books/tourdumonde.txt\", \"books/sophie.txt\", \"books/monmoulin.txt\"]\n",
    "freq_fr_results = []"
   ]
  },
  {
   "cell_type": "code",
   "execution_count": 11,
   "metadata": {},
   "outputs": [],
   "source": [
    "for fr_book in french_books:\n",
    "    raw = clean.clean_text(fr_book)\n",
    "    text = raw.remove_metadata(raw.text)\n",
    "    content = raw.remove_chapters(text)\n",
    "    content = raw.remove_punctuation(content)\n",
    "    letters = raw.text_letters(content)\n",
    "    analysis = count.analyse_letters(letters)\n",
    "    letters_count = analysis.letters_count(analysis.letters)\n",
    "    letters_freq = analysis.letters_freq_pd(letters_count)\n",
    "    freq_fr_results.append(letters_freq)"
   ]
  },
  {
   "cell_type": "code",
   "execution_count": 12,
   "metadata": {},
   "outputs": [],
   "source": [
    "latin_alphabet = list(string.ascii_lowercase)\n",
    "letters_freq_fr = {key: 0 for key in latin_alphabet}"
   ]
  },
  {
   "cell_type": "code",
   "execution_count": 13,
   "metadata": {},
   "outputs": [],
   "source": [
    "for key in letters_freq_fr:\n",
    "    mean = np.mean([a.get(key, 0) for a in freq_fr_results])\n",
    "    letters_freq_fr[key] = mean"
   ]
  },
  {
   "cell_type": "code",
   "execution_count": 14,
   "metadata": {},
   "outputs": [],
   "source": [
    "# letters_freq_fr"
   ]
  },
  {
   "cell_type": "code",
   "execution_count": 15,
   "metadata": {},
   "outputs": [],
   "source": [
    "freq_fr = pd.DataFrame(letters_freq_fr.items(), columns=[\"letter\", \"average frequency\"])"
   ]
  },
  {
   "cell_type": "code",
   "execution_count": 16,
   "metadata": {},
   "outputs": [
    {
     "data": {
      "text/plain": [
       "<matplotlib.axes._subplots.AxesSubplot at 0x7fe753e0b4e0>"
      ]
     },
     "execution_count": 16,
     "metadata": {},
     "output_type": "execute_result"
    },
    {
     "data": {
      "image/png": "[encoded data removed]",
      "text/plain": [
       "<Figure size 432x288 with 1 Axes>"
      ]
     },
     "metadata": {
      "needs_background": "light"
     },
     "output_type": "display_data"
    }
   ],
   "source": [
    "freq_fr.plot(kind='bar', x=\"letter\")"
   ]
  },
  {
   "cell_type": "markdown",
   "metadata": {},
   "source": [
    "## Comparison"
   ]
  },
  {
   "cell_type": "code",
   "execution_count": 41,
   "metadata": {},
   "outputs": [],
   "source": [
    "en_vs_en = pd.DataFrame({\"English\": list(letters_freq_en.values()),\n",
    "                         \"French\": list(letters_freq_fr.values())},\n",
    "                        index=latin_alphabet)"
   ]
  },
  {
   "cell_type": "code",
   "execution_count": 38,
   "metadata": {},
   "outputs": [],
   "source": [
    "# en_vs_en"
   ]
  },
  {
   "cell_type": "code",
   "execution_count": 42,
   "metadata": {},
   "outputs": [
    {
     "data": {
      "text/plain": [
       "<matplotlib.axes._subplots.AxesSubplot at 0x7fe7537a3f28>"
      ]
     },
     "execution_count": 42,
     "metadata": {},
     "output_type": "execute_result"
    },
    {
     "data": {
      "image/png": "[encoded data removed]",
      "text/plain": [
       "<Figure size 864x432 with 1 Axes>"
      ]
     },
     "metadata": {
      "needs_background": "light"
     },
     "output_type": "display_data"
    }
   ],
   "source": [
    "en_vs_en.plot(kind='bar', rot=0, figsize=(12, 6))"
   ]
  },
  {
   "cell_type": "code",
   "execution_count": 44,
   "metadata": {},
   "outputs": [],
   "source": [
    "en_vs_en.to_csv(\"letters_freq_en_vs_fr.csv\", \n",
    "                index_label=\"letter\")"
   ]
  }
 ],
 "metadata": {
  "kernelspec": {
   "display_name": "Python 3",
   "language": "python",
   "name": "python3"
  },
  "language_info": {
   "codemirror_mode": {
    "name": "ipython",
    "version": 3
   },
   "file_extension": ".py",
   "mimetype": "text/x-python",
   "name": "python",
   "nbconvert_exporter": "python",
   "pygments_lexer": "ipython3",
   "version": "3.6.7"
  }
 },
 "nbformat": 4,
 "nbformat_minor": 2
}
