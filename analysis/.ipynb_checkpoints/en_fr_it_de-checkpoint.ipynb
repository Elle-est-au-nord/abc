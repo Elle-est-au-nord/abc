{
 "cells": [
  {
   "cell_type": "code",
   "execution_count": 22,
   "metadata": {},
   "outputs": [],
   "source": [
    "import os\n",
    "from os.path import isdir, dirname\n",
    "import string\n",
    "import pandas as pd\n",
    "import numpy as np"
   ]
  },
  {
   "cell_type": "code",
   "execution_count": 4,
   "metadata": {},
   "outputs": [],
   "source": [
    "import clean_text_class as clean\n",
    "import count_words_letters_class as count"
   ]
  },
  {
   "cell_type": "code",
   "execution_count": 32,
   "metadata": {},
   "outputs": [
    {
     "name": "stdout",
     "output_type": "stream",
     "text": [
      "('books', ['english', 'français', 'italiano', 'deutsch'], ['test.txt', 'sample.txt', 'test2.txt'])\n",
      "('books/english', [], ['wizardofoz.txt', 'peterpan.txt', 'alice.txt'])\n",
      "('books/français', [], ['sophie.txt', 'monmoulin.txt', 'tourdumonde.txt'])\n",
      "('books/italiano', [], ['el_mahdi.txt', 'pinocchio.txt', 'eroi.txt'])\n",
      "('books/deutsch', [], ['mond.txt', 'maja.txt', 'märchen.txt'])\n"
     ]
    }
   ],
   "source": [
    "books_path = \"books\"\n",
    "for folder in os.walk(books_path):\n",
    "    print(folder)\n",
    "#languages_folders = [element for element in os.walk(books_path)]\n",
    "#print(languages_folders)"
   ]
  },
  {
   "cell_type": "code",
   "execution_count": null,
   "metadata": {},
   "outputs": [],
   "source": [
    "# Create an empty dictionary\n",
    "results = {}\n",
    "# For each folder in the 'books' folder\n",
    "# retrieve all the texts as a list and run the analysis\n",
    "# add an item to the dictionary, with the folder name as the key and the analysis result as the value\n",
    "# make a dataframe out of this dictionary and plot"
   ]
  }
 ],
 "metadata": {
  "kernelspec": {
   "display_name": "Python 3",
   "language": "python",
   "name": "python3"
  },
  "language_info": {
   "codemirror_mode": {
    "name": "ipython",
    "version": 3
   },
   "file_extension": ".py",
   "mimetype": "text/x-python",
   "name": "python",
   "nbconvert_exporter": "python",
   "pygments_lexer": "ipython3",
   "version": "3.6.8"
  }
 },
 "nbformat": 4,
 "nbformat_minor": 2
}
