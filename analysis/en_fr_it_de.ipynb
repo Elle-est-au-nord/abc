{
 "cells": [
  {
   "cell_type": "code",
   "execution_count": 9,
   "metadata": {},
   "outputs": [],
   "source": [
    "%matplotlib inline"
   ]
  },
  {
   "cell_type": "code",
   "execution_count": 10,
   "metadata": {},
   "outputs": [],
   "source": [
    "import os\n",
    "import os.path\n",
    "import string\n",
    "import pandas as pd\n",
    "import numpy as np"
   ]
  },
  {
   "cell_type": "code",
   "execution_count": 2,
   "metadata": {},
   "outputs": [],
   "source": [
    "import clean_text_class as clean\n",
    "import count_words_letters_class as count"
   ]
  },
  {
   "cell_type": "code",
   "execution_count": 4,
   "metadata": {},
   "outputs": [],
   "source": [
    "def analyse_texts(list_texts, alphabet):\n",
    "    freq_results = []\n",
    "    # Analyse each text of the list\n",
    "    for book in list_texts:\n",
    "        raw = clean.clean_text(book)\n",
    "        text = raw.remove_metadata(raw.text)\n",
    "        content = raw.remove_chapters(text)\n",
    "        content = raw.remove_punctuation(content)\n",
    "        letters = raw.text_letters(content)\n",
    "        analysis = count.analyse_letters(letters)\n",
    "        letters_count = analysis.letters_count(analysis.letters)\n",
    "        letters_freq = analysis.letters_freq_pd(letters_count)\n",
    "        freq_results.append(letters_freq)\n",
    "    # Format the results -> mean for all texts and by alphabet letter\n",
    "    letters_freq = {key: 0 for key in alphabet}\n",
    "    for key in letters_freq:\n",
    "        mean = np.mean([a.get(key, 0) for a in freq_results])\n",
    "        letters_freq[key] = mean\n",
    "    return letters_freq"
   ]
  },
  {
   "cell_type": "code",
   "execution_count": 5,
   "metadata": {},
   "outputs": [],
   "source": [
    "latin_alphabet = list(string.ascii_lowercase)\n",
    "# Texts location\n",
    "books_path = \"books\"\n",
    "# Create an empty dictionary for results\n",
    "results = {}\n",
    "\n",
    "for root, dirs, files in os.walk(books_path):\n",
    "    # For each subfolder in the 'books' folder\n",
    "    if root != books_path:\n",
    "        language = os.path.basename(root)\n",
    "        # Retrieve all the texts as a list and run the analysis\n",
    "        filenames = [os.path.join(root, name) for name in files]\n",
    "        analysis_result = analyse_texts(filenames, latin_alphabet)\n",
    "        # Add an item to the dictionary, with the folder name as the key and the analysis result as the value\n",
    "        results[language] = analysis_result"
   ]
  },
  {
   "cell_type": "code",
   "execution_count": 7,
   "metadata": {},
   "outputs": [],
   "source": [
    "# Create a dataframe to plot\n",
    "languages_for_plot = {key:list(value.values()) for key, value in results.items()}\n",
    "languages_df = pd.DataFrame(languages_for_plot, index=latin_alphabet)"
   ]
  },
  {
   "cell_type": "code",
   "execution_count": 20,
   "metadata": {},
   "outputs": [
    {
     "name": "stdout",
     "output_type": "stream",
     "text": [
      "['seaborn-ticks', 'fivethirtyeight', 'seaborn-colorblind', 'classic', 'seaborn-notebook', 'tableau-colorblind10', 'Solarize_Light2', 'dark_background', 'seaborn-dark-palette', 'seaborn-whitegrid', 'seaborn-paper', 'grayscale', 'seaborn-bright', 'seaborn-white', 'fast', 'seaborn-deep', 'seaborn-dark', 'seaborn-darkgrid', 'ggplot', '_classic_test', 'bmh', 'seaborn-talk', 'seaborn-pastel', 'seaborn-muted', 'seaborn-poster', 'seaborn']\n"
     ]
    }
   ],
   "source": [
    "import matplotlib as plt\n",
    "print(plt.style.available)"
   ]
  },
  {
   "cell_type": "code",
   "execution_count": 36,
   "metadata": {},
   "outputs": [
    {
     "data": {
      "text/plain": [
       "<matplotlib.axes._subplots.AxesSubplot at 0x7fd3e5d944e0>"
      ]
     },
     "execution_count": 36,
     "metadata": {},
     "output_type": "execute_result"
    },
    {
     "data": {
      "image/png": "[encoded data removed]",
      "text/plain": [
       "<Figure size 1120x800 with 1 Axes>"
      ]
     },
     "metadata": {},
     "output_type": "display_data"
    }
   ],
   "source": [
    "import matplotlib\n",
    "matplotlib.style.use('fivethirtyeight')\n",
    "\n",
    "languages_df.plot(kind='bar', rot=0, figsize=(14, 10))"
   ]
  },
  {
   "cell_type": "code",
   "execution_count": 37,
   "metadata": {},
   "outputs": [],
   "source": [
    "languages_df.to_csv(\"letters_freq_4_languages.csv\", index_label=\"letter\")"
   ]
  },
  {
   "cell_type": "code",
   "execution_count": null,
   "metadata": {},
   "outputs": [],
   "source": []
  }
 ],
 "metadata": {
  "kernelspec": {
   "display_name": "Python 3",
   "language": "python",
   "name": "python3"
  },
  "language_info": {
   "codemirror_mode": {
    "name": "ipython",
    "version": 3
   },
   "file_extension": ".py",
   "mimetype": "text/x-python",
   "name": "python",
   "nbconvert_exporter": "python",
   "pygments_lexer": "ipython3",
   "version": "3.6.8"
  }
 },
 "nbformat": 4,
 "nbformat_minor": 2
}
